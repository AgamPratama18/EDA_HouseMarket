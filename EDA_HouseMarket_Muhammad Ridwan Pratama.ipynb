{
 "cells": [
  {
   "cell_type": "code",
   "execution_count": 25,
   "metadata": {
    "ExecuteTime": {
     "end_time": "2020-07-08T05:44:06.987969Z",
     "start_time": "2020-07-08T05:44:06.978977Z"
    }
   },
   "outputs": [],
   "source": [
    "import numpy as np\n",
    "import pandas as pd\n",
    "import seaborn as sns\n",
    "import matplotlib.pyplot as plt\n",
    "%matplotlib inline\n",
    "from scipy import stats\n",
    "from scipy.stats import norm"
   ]
  },
  {
   "cell_type": "code",
   "execution_count": 5,
   "metadata": {
    "ExecuteTime": {
     "end_time": "2020-07-08T04:02:32.540828Z",
     "start_time": "2020-07-08T04:02:32.400596Z"
    }
   },
   "outputs": [
    {
     "data": {
      "text/html": [
       "<div>\n",
       "<style scoped>\n",
       "    .dataframe tbody tr th:only-of-type {\n",
       "        vertical-align: middle;\n",
       "    }\n",
       "\n",
       "    .dataframe tbody tr th {\n",
       "        vertical-align: top;\n",
       "    }\n",
       "\n",
       "    .dataframe thead th {\n",
       "        text-align: right;\n",
       "    }\n",
       "</style>\n",
       "<table border=\"1\" class=\"dataframe\">\n",
       "  <thead>\n",
       "    <tr style=\"text-align: right;\">\n",
       "      <th></th>\n",
       "      <th>Suburb</th>\n",
       "      <th>Address</th>\n",
       "      <th>Rooms</th>\n",
       "      <th>Type</th>\n",
       "      <th>Price</th>\n",
       "      <th>Method</th>\n",
       "      <th>SellerG</th>\n",
       "      <th>Date</th>\n",
       "      <th>Distance</th>\n",
       "      <th>Postcode</th>\n",
       "      <th>...</th>\n",
       "      <th>Bathroom</th>\n",
       "      <th>Car</th>\n",
       "      <th>Landsize</th>\n",
       "      <th>BuildingArea</th>\n",
       "      <th>YearBuilt</th>\n",
       "      <th>CouncilArea</th>\n",
       "      <th>Lattitude</th>\n",
       "      <th>Longtitude</th>\n",
       "      <th>Regionname</th>\n",
       "      <th>Propertycount</th>\n",
       "    </tr>\n",
       "  </thead>\n",
       "  <tbody>\n",
       "    <tr>\n",
       "      <th>0</th>\n",
       "      <td>Abbotsford</td>\n",
       "      <td>85 Turner St</td>\n",
       "      <td>2</td>\n",
       "      <td>h</td>\n",
       "      <td>1480000.0</td>\n",
       "      <td>S</td>\n",
       "      <td>Biggin</td>\n",
       "      <td>3/12/2016</td>\n",
       "      <td>2.5</td>\n",
       "      <td>3067.0</td>\n",
       "      <td>...</td>\n",
       "      <td>1.0</td>\n",
       "      <td>1.0</td>\n",
       "      <td>202.0</td>\n",
       "      <td>NaN</td>\n",
       "      <td>NaN</td>\n",
       "      <td>Yarra</td>\n",
       "      <td>-37.79960</td>\n",
       "      <td>144.99840</td>\n",
       "      <td>Northern Metropolitan</td>\n",
       "      <td>4019.0</td>\n",
       "    </tr>\n",
       "    <tr>\n",
       "      <th>1</th>\n",
       "      <td>Abbotsford</td>\n",
       "      <td>25 Bloomburg St</td>\n",
       "      <td>2</td>\n",
       "      <td>h</td>\n",
       "      <td>1035000.0</td>\n",
       "      <td>S</td>\n",
       "      <td>Biggin</td>\n",
       "      <td>4/02/2016</td>\n",
       "      <td>2.5</td>\n",
       "      <td>3067.0</td>\n",
       "      <td>...</td>\n",
       "      <td>1.0</td>\n",
       "      <td>0.0</td>\n",
       "      <td>156.0</td>\n",
       "      <td>79.0</td>\n",
       "      <td>1900.0</td>\n",
       "      <td>Yarra</td>\n",
       "      <td>-37.80790</td>\n",
       "      <td>144.99340</td>\n",
       "      <td>Northern Metropolitan</td>\n",
       "      <td>4019.0</td>\n",
       "    </tr>\n",
       "    <tr>\n",
       "      <th>2</th>\n",
       "      <td>Abbotsford</td>\n",
       "      <td>5 Charles St</td>\n",
       "      <td>3</td>\n",
       "      <td>h</td>\n",
       "      <td>1465000.0</td>\n",
       "      <td>SP</td>\n",
       "      <td>Biggin</td>\n",
       "      <td>4/03/2017</td>\n",
       "      <td>2.5</td>\n",
       "      <td>3067.0</td>\n",
       "      <td>...</td>\n",
       "      <td>2.0</td>\n",
       "      <td>0.0</td>\n",
       "      <td>134.0</td>\n",
       "      <td>150.0</td>\n",
       "      <td>1900.0</td>\n",
       "      <td>Yarra</td>\n",
       "      <td>-37.80930</td>\n",
       "      <td>144.99440</td>\n",
       "      <td>Northern Metropolitan</td>\n",
       "      <td>4019.0</td>\n",
       "    </tr>\n",
       "    <tr>\n",
       "      <th>3</th>\n",
       "      <td>Abbotsford</td>\n",
       "      <td>40 Federation La</td>\n",
       "      <td>3</td>\n",
       "      <td>h</td>\n",
       "      <td>850000.0</td>\n",
       "      <td>PI</td>\n",
       "      <td>Biggin</td>\n",
       "      <td>4/03/2017</td>\n",
       "      <td>2.5</td>\n",
       "      <td>3067.0</td>\n",
       "      <td>...</td>\n",
       "      <td>2.0</td>\n",
       "      <td>1.0</td>\n",
       "      <td>94.0</td>\n",
       "      <td>NaN</td>\n",
       "      <td>NaN</td>\n",
       "      <td>Yarra</td>\n",
       "      <td>-37.79690</td>\n",
       "      <td>144.99690</td>\n",
       "      <td>Northern Metropolitan</td>\n",
       "      <td>4019.0</td>\n",
       "    </tr>\n",
       "    <tr>\n",
       "      <th>4</th>\n",
       "      <td>Abbotsford</td>\n",
       "      <td>55a Park St</td>\n",
       "      <td>4</td>\n",
       "      <td>h</td>\n",
       "      <td>1600000.0</td>\n",
       "      <td>VB</td>\n",
       "      <td>Nelson</td>\n",
       "      <td>4/06/2016</td>\n",
       "      <td>2.5</td>\n",
       "      <td>3067.0</td>\n",
       "      <td>...</td>\n",
       "      <td>1.0</td>\n",
       "      <td>2.0</td>\n",
       "      <td>120.0</td>\n",
       "      <td>142.0</td>\n",
       "      <td>2014.0</td>\n",
       "      <td>Yarra</td>\n",
       "      <td>-37.80720</td>\n",
       "      <td>144.99410</td>\n",
       "      <td>Northern Metropolitan</td>\n",
       "      <td>4019.0</td>\n",
       "    </tr>\n",
       "    <tr>\n",
       "      <th>...</th>\n",
       "      <td>...</td>\n",
       "      <td>...</td>\n",
       "      <td>...</td>\n",
       "      <td>...</td>\n",
       "      <td>...</td>\n",
       "      <td>...</td>\n",
       "      <td>...</td>\n",
       "      <td>...</td>\n",
       "      <td>...</td>\n",
       "      <td>...</td>\n",
       "      <td>...</td>\n",
       "      <td>...</td>\n",
       "      <td>...</td>\n",
       "      <td>...</td>\n",
       "      <td>...</td>\n",
       "      <td>...</td>\n",
       "      <td>...</td>\n",
       "      <td>...</td>\n",
       "      <td>...</td>\n",
       "      <td>...</td>\n",
       "      <td>...</td>\n",
       "    </tr>\n",
       "    <tr>\n",
       "      <th>13575</th>\n",
       "      <td>Wheelers Hill</td>\n",
       "      <td>12 Strada Cr</td>\n",
       "      <td>4</td>\n",
       "      <td>h</td>\n",
       "      <td>1245000.0</td>\n",
       "      <td>S</td>\n",
       "      <td>Barry</td>\n",
       "      <td>26/08/2017</td>\n",
       "      <td>16.7</td>\n",
       "      <td>3150.0</td>\n",
       "      <td>...</td>\n",
       "      <td>2.0</td>\n",
       "      <td>2.0</td>\n",
       "      <td>652.0</td>\n",
       "      <td>NaN</td>\n",
       "      <td>1981.0</td>\n",
       "      <td>NaN</td>\n",
       "      <td>-37.90562</td>\n",
       "      <td>145.16761</td>\n",
       "      <td>South-Eastern Metropolitan</td>\n",
       "      <td>7392.0</td>\n",
       "    </tr>\n",
       "    <tr>\n",
       "      <th>13576</th>\n",
       "      <td>Williamstown</td>\n",
       "      <td>77 Merrett Dr</td>\n",
       "      <td>3</td>\n",
       "      <td>h</td>\n",
       "      <td>1031000.0</td>\n",
       "      <td>SP</td>\n",
       "      <td>Williams</td>\n",
       "      <td>26/08/2017</td>\n",
       "      <td>6.8</td>\n",
       "      <td>3016.0</td>\n",
       "      <td>...</td>\n",
       "      <td>2.0</td>\n",
       "      <td>2.0</td>\n",
       "      <td>333.0</td>\n",
       "      <td>133.0</td>\n",
       "      <td>1995.0</td>\n",
       "      <td>NaN</td>\n",
       "      <td>-37.85927</td>\n",
       "      <td>144.87904</td>\n",
       "      <td>Western Metropolitan</td>\n",
       "      <td>6380.0</td>\n",
       "    </tr>\n",
       "    <tr>\n",
       "      <th>13577</th>\n",
       "      <td>Williamstown</td>\n",
       "      <td>83 Power St</td>\n",
       "      <td>3</td>\n",
       "      <td>h</td>\n",
       "      <td>1170000.0</td>\n",
       "      <td>S</td>\n",
       "      <td>Raine</td>\n",
       "      <td>26/08/2017</td>\n",
       "      <td>6.8</td>\n",
       "      <td>3016.0</td>\n",
       "      <td>...</td>\n",
       "      <td>2.0</td>\n",
       "      <td>4.0</td>\n",
       "      <td>436.0</td>\n",
       "      <td>NaN</td>\n",
       "      <td>1997.0</td>\n",
       "      <td>NaN</td>\n",
       "      <td>-37.85274</td>\n",
       "      <td>144.88738</td>\n",
       "      <td>Western Metropolitan</td>\n",
       "      <td>6380.0</td>\n",
       "    </tr>\n",
       "    <tr>\n",
       "      <th>13578</th>\n",
       "      <td>Williamstown</td>\n",
       "      <td>96 Verdon St</td>\n",
       "      <td>4</td>\n",
       "      <td>h</td>\n",
       "      <td>2500000.0</td>\n",
       "      <td>PI</td>\n",
       "      <td>Sweeney</td>\n",
       "      <td>26/08/2017</td>\n",
       "      <td>6.8</td>\n",
       "      <td>3016.0</td>\n",
       "      <td>...</td>\n",
       "      <td>1.0</td>\n",
       "      <td>5.0</td>\n",
       "      <td>866.0</td>\n",
       "      <td>157.0</td>\n",
       "      <td>1920.0</td>\n",
       "      <td>NaN</td>\n",
       "      <td>-37.85908</td>\n",
       "      <td>144.89299</td>\n",
       "      <td>Western Metropolitan</td>\n",
       "      <td>6380.0</td>\n",
       "    </tr>\n",
       "    <tr>\n",
       "      <th>13579</th>\n",
       "      <td>Yarraville</td>\n",
       "      <td>6 Agnes St</td>\n",
       "      <td>4</td>\n",
       "      <td>h</td>\n",
       "      <td>1285000.0</td>\n",
       "      <td>SP</td>\n",
       "      <td>Village</td>\n",
       "      <td>26/08/2017</td>\n",
       "      <td>6.3</td>\n",
       "      <td>3013.0</td>\n",
       "      <td>...</td>\n",
       "      <td>1.0</td>\n",
       "      <td>1.0</td>\n",
       "      <td>362.0</td>\n",
       "      <td>112.0</td>\n",
       "      <td>1920.0</td>\n",
       "      <td>NaN</td>\n",
       "      <td>-37.81188</td>\n",
       "      <td>144.88449</td>\n",
       "      <td>Western Metropolitan</td>\n",
       "      <td>6543.0</td>\n",
       "    </tr>\n",
       "  </tbody>\n",
       "</table>\n",
       "<p>13580 rows × 21 columns</p>\n",
       "</div>"
      ],
      "text/plain": [
       "              Suburb           Address  Rooms Type      Price Method  \\\n",
       "0         Abbotsford      85 Turner St      2    h  1480000.0      S   \n",
       "1         Abbotsford   25 Bloomburg St      2    h  1035000.0      S   \n",
       "2         Abbotsford      5 Charles St      3    h  1465000.0     SP   \n",
       "3         Abbotsford  40 Federation La      3    h   850000.0     PI   \n",
       "4         Abbotsford       55a Park St      4    h  1600000.0     VB   \n",
       "...              ...               ...    ...  ...        ...    ...   \n",
       "13575  Wheelers Hill      12 Strada Cr      4    h  1245000.0      S   \n",
       "13576   Williamstown     77 Merrett Dr      3    h  1031000.0     SP   \n",
       "13577   Williamstown       83 Power St      3    h  1170000.0      S   \n",
       "13578   Williamstown      96 Verdon St      4    h  2500000.0     PI   \n",
       "13579     Yarraville        6 Agnes St      4    h  1285000.0     SP   \n",
       "\n",
       "        SellerG        Date  Distance  Postcode  ...  Bathroom  Car  Landsize  \\\n",
       "0        Biggin   3/12/2016       2.5    3067.0  ...       1.0  1.0     202.0   \n",
       "1        Biggin   4/02/2016       2.5    3067.0  ...       1.0  0.0     156.0   \n",
       "2        Biggin   4/03/2017       2.5    3067.0  ...       2.0  0.0     134.0   \n",
       "3        Biggin   4/03/2017       2.5    3067.0  ...       2.0  1.0      94.0   \n",
       "4        Nelson   4/06/2016       2.5    3067.0  ...       1.0  2.0     120.0   \n",
       "...         ...         ...       ...       ...  ...       ...  ...       ...   \n",
       "13575     Barry  26/08/2017      16.7    3150.0  ...       2.0  2.0     652.0   \n",
       "13576  Williams  26/08/2017       6.8    3016.0  ...       2.0  2.0     333.0   \n",
       "13577     Raine  26/08/2017       6.8    3016.0  ...       2.0  4.0     436.0   \n",
       "13578   Sweeney  26/08/2017       6.8    3016.0  ...       1.0  5.0     866.0   \n",
       "13579   Village  26/08/2017       6.3    3013.0  ...       1.0  1.0     362.0   \n",
       "\n",
       "       BuildingArea  YearBuilt  CouncilArea Lattitude  Longtitude  \\\n",
       "0               NaN        NaN        Yarra -37.79960   144.99840   \n",
       "1              79.0     1900.0        Yarra -37.80790   144.99340   \n",
       "2             150.0     1900.0        Yarra -37.80930   144.99440   \n",
       "3               NaN        NaN        Yarra -37.79690   144.99690   \n",
       "4             142.0     2014.0        Yarra -37.80720   144.99410   \n",
       "...             ...        ...          ...       ...         ...   \n",
       "13575           NaN     1981.0          NaN -37.90562   145.16761   \n",
       "13576         133.0     1995.0          NaN -37.85927   144.87904   \n",
       "13577           NaN     1997.0          NaN -37.85274   144.88738   \n",
       "13578         157.0     1920.0          NaN -37.85908   144.89299   \n",
       "13579         112.0     1920.0          NaN -37.81188   144.88449   \n",
       "\n",
       "                       Regionname Propertycount  \n",
       "0           Northern Metropolitan        4019.0  \n",
       "1           Northern Metropolitan        4019.0  \n",
       "2           Northern Metropolitan        4019.0  \n",
       "3           Northern Metropolitan        4019.0  \n",
       "4           Northern Metropolitan        4019.0  \n",
       "...                           ...           ...  \n",
       "13575  South-Eastern Metropolitan        7392.0  \n",
       "13576        Western Metropolitan        6380.0  \n",
       "13577        Western Metropolitan        6380.0  \n",
       "13578        Western Metropolitan        6380.0  \n",
       "13579        Western Metropolitan        6543.0  \n",
       "\n",
       "[13580 rows x 21 columns]"
      ]
     },
     "execution_count": 5,
     "metadata": {},
     "output_type": "execute_result"
    }
   ],
   "source": [
    "df = pd.read_csv('melb_data.csv')\n",
    "df"
   ]
  },
  {
   "cell_type": "code",
   "execution_count": 4,
   "metadata": {
    "ExecuteTime": {
     "end_time": "2020-07-08T04:01:20.878986Z",
     "start_time": "2020-07-08T04:01:20.854999Z"
    }
   },
   "outputs": [
    {
     "data": {
      "text/plain": [
       "Suburb              0\n",
       "Address             0\n",
       "Rooms               0\n",
       "Type                0\n",
       "Price               0\n",
       "Method              0\n",
       "SellerG             0\n",
       "Date                0\n",
       "Distance            0\n",
       "Postcode            0\n",
       "Bedroom2            0\n",
       "Bathroom            0\n",
       "Car                62\n",
       "Landsize            0\n",
       "BuildingArea     6450\n",
       "YearBuilt        5375\n",
       "CouncilArea      1369\n",
       "Lattitude           0\n",
       "Longtitude          0\n",
       "Regionname          0\n",
       "Propertycount       0\n",
       "dtype: int64"
      ]
     },
     "execution_count": 4,
     "metadata": {},
     "output_type": "execute_result"
    }
   ],
   "source": [
    "df.isna().sum()"
   ]
  },
  {
   "cell_type": "markdown",
   "metadata": {},
   "source": [
    "# SOAL 1"
   ]
  },
  {
   "cell_type": "markdown",
   "metadata": {},
   "source": [
    "## A. Landsize"
   ]
  },
  {
   "cell_type": "markdown",
   "metadata": {},
   "source": [
    "### a) Titik Pusat (Central Tendency)"
   ]
  },
  {
   "cell_type": "code",
   "execution_count": 3,
   "metadata": {
    "ExecuteTime": {
     "end_time": "2020-07-08T03:37:02.677286Z",
     "start_time": "2020-07-08T03:37:02.650313Z"
    }
   },
   "outputs": [
    {
     "data": {
      "text/plain": [
       "count     13580.000000\n",
       "mean        558.416127\n",
       "std        3990.669241\n",
       "min           0.000000\n",
       "25%         177.000000\n",
       "50%         440.000000\n",
       "75%         651.000000\n",
       "max      433014.000000\n",
       "Name: Landsize, dtype: float64"
      ]
     },
     "execution_count": 3,
     "metadata": {},
     "output_type": "execute_result"
    }
   ],
   "source": [
    "df['Landsize'].describe()"
   ]
  },
  {
   "cell_type": "markdown",
   "metadata": {},
   "source": [
    "***DARI DATA DIATAS DAPAT DISIMPULKAN BAHWA***\n",
    "\n",
    "<span style='color:#0066b2'>***MEAN: (```558.416127```)***</span>\n",
    "- Merupakan nilai ***Mean*** dari data diatas atau Rata - rata dari Columns 'Landsize' dari jumlah data sebanyak ```13580```\n",
    "\n",
    "<span style='color:#0066b2'>***MEDIAN: (```440```)***</span>\n",
    "- Nilai Median atau nilai dari nilai titik tengah pada posisi ***'50%'*** dari data diatas dengan sebaran data sebanyak ```13580``` yang diurutkan."
   ]
  },
  {
   "cell_type": "code",
   "execution_count": 13,
   "metadata": {
    "ExecuteTime": {
     "end_time": "2020-07-08T04:30:11.467660Z",
     "start_time": "2020-07-08T04:30:11.457669Z"
    }
   },
   "outputs": [
    {
     "data": {
      "text/plain": [
       "0    0.0\n",
       "dtype: float64"
      ]
     },
     "execution_count": 13,
     "metadata": {},
     "output_type": "execute_result"
    }
   ],
   "source": [
    "df['Landsize'].mode()"
   ]
  },
  {
   "cell_type": "code",
   "execution_count": 12,
   "metadata": {
    "ExecuteTime": {
     "end_time": "2020-07-08T04:13:02.371477Z",
     "start_time": "2020-07-08T04:13:02.363469Z"
    }
   },
   "outputs": [
    {
     "data": {
      "text/plain": [
       "0.0    1939\n",
       "Name: Landsize, dtype: int64"
      ]
     },
     "execution_count": 12,
     "metadata": {},
     "output_type": "execute_result"
    }
   ],
   "source": [
    "df['Landsize'].value_counts().head(1)"
   ]
  },
  {
   "cell_type": "markdown",
   "metadata": {},
   "source": [
    "***DARI DATA DIATAS DAPAT DISIMPULKAN BAHWA***\n",
    "\n",
    "<span style='color:#0066b2'>***MODE: (```0.0```)***</span>\n",
    "- Merupakan nilai ***MODE*** dari data diatas atau nilai dengan frekuensi terbanyak, yang berjumlah ```1939``` data, dari sebaran data sebanyak ```13580```."
   ]
  },
  {
   "cell_type": "markdown",
   "metadata": {},
   "source": [
    "### b) Persebaran Data (Dispersion)"
   ]
  },
  {
   "cell_type": "code",
   "execution_count": 22,
   "metadata": {
    "ExecuteTime": {
     "end_time": "2020-07-08T05:30:57.980388Z",
     "start_time": "2020-07-08T05:30:57.961405Z"
    }
   },
   "outputs": [
    {
     "data": {
      "text/plain": [
       "15925440.991933735"
      ]
     },
     "execution_count": 22,
     "metadata": {},
     "output_type": "execute_result"
    }
   ],
   "source": [
    "df['Landsize'].var()"
   ]
  },
  {
   "cell_type": "markdown",
   "metadata": {},
   "source": [
    "***DARI DATA DIATAS DAPAT DISIMPULKAN BAHWA***\n",
    "\n",
    "<span style='color:#0066b2'>***VARIANCE: (```15925440.991933735```)***</span>\n",
    "- Merupakan nilai ***VARIANCE*** dari ```13580``` data pada kolom 'Landsize' memiliki nilai variance '15925440.991933735' yang menggambarkan seberapa besar tingkat variasi atau value dari datanya."
   ]
  },
  {
   "cell_type": "code",
   "execution_count": 23,
   "metadata": {
    "ExecuteTime": {
     "end_time": "2020-07-08T05:31:14.384447Z",
     "start_time": "2020-07-08T05:31:14.376436Z"
    }
   },
   "outputs": [
    {
     "data": {
      "text/plain": [
       "3990.6692411090316"
      ]
     },
     "execution_count": 23,
     "metadata": {},
     "output_type": "execute_result"
    }
   ],
   "source": [
    "df['Landsize'].std()"
   ]
  },
  {
   "cell_type": "markdown",
   "metadata": {},
   "source": [
    "***DARI DATA DIATAS DAPAT DISIMPULKAN BAHWA***\n",
    "\n",
    "<span style='color:#0066b2'>***STANDARD DEVIASI: (```3990.6692411090316```)***</span>\n",
    "- Merupakan nilai ***STANDARD DEVIASI*** dari ```13580``` data pada kolom 'Landsize' memiliki nilai standard deviasi '3990.6692411090316' yang menggambarkan bahwa nilai tersebut meunjukan jarak dari setiap data terhadap mean pada kolom tersebut."
   ]
  },
  {
   "cell_type": "markdown",
   "metadata": {},
   "source": [
    "### c) Distribusi Data (Distribution)"
   ]
  },
  {
   "cell_type": "code",
   "execution_count": 32,
   "metadata": {
    "ExecuteTime": {
     "end_time": "2020-07-08T05:50:49.725390Z",
     "start_time": "2020-07-08T05:50:49.719404Z"
    }
   },
   "outputs": [
    {
     "name": "stdout",
     "output_type": "stream",
     "text": [
      "normal skewtest teststat = 212.046 pvalue = 0.0000\n"
     ]
    }
   ],
   "source": [
    "print(f'normal skewtest teststat = %6.3f pvalue = %6.4f' % stats.skewtest(df['Landsize']))"
   ]
  },
  {
   "cell_type": "markdown",
   "metadata": {},
   "source": [
    "***DARI DATA DIATAS DAPAT DISIMPULKAN BAHWA***\n",
    "\n",
    "<span style='color:#0066b2'>***Normal Skewtest: (```212.046```)***</span>\n",
    "- Yang berarti nilai skewtest (+)212.046 ***(Positive Skewed)*** atau sangat condong ke kiri, dengan parameter distribusi normal nilai skewtest antara ```- 0.5 sampapai 0.5```"
   ]
  },
  {
   "cell_type": "code",
   "execution_count": 28,
   "metadata": {
    "ExecuteTime": {
     "end_time": "2020-07-08T05:48:20.701318Z",
     "start_time": "2020-07-08T05:48:20.696320Z"
    },
    "scrolled": true
   },
   "outputs": [
    {
     "name": "stdout",
     "output_type": "stream",
     "text": [
      "normal kurtosistest teststat = 90.581 pvalue = 0.0000\n"
     ]
    }
   ],
   "source": [
    "print('normal kurtosistest teststat = %6.3f pvalue = %6.4f' % stats.kurtosistest(df['Landsize']))"
   ]
  },
  {
   "cell_type": "markdown",
   "metadata": {},
   "source": [
    "***DARI DATA DIATAS DAPAT DISIMPULKAN BAHWA***\n",
    "\n",
    "<span style='color:#0066b2'>***Kurtosis Test: (```90.581```)***</span>\n",
    "- Yang berarti nilai kurtosis (+)90.581 ***(leptokurtik)*** atau sangat meruncing, dengan parameter distribusi normal nilai Kurtosis adalah ```3```."
   ]
  },
  {
   "cell_type": "code",
   "execution_count": 29,
   "metadata": {
    "ExecuteTime": {
     "end_time": "2020-07-08T05:48:54.116896Z",
     "start_time": "2020-07-08T05:48:54.105889Z"
    }
   },
   "outputs": [
    {
     "name": "stdout",
     "output_type": "stream",
     "text": [
      "p = 0.0\n",
      "The null hypothesis can be rejected/ Hipotesis nol ditolak\n"
     ]
    }
   ],
   "source": [
    "k2, p = stats.normaltest(df['Landsize'])\n",
    "alpha = 0.001\n",
    "print(f\"p = {p}\")\n",
    "\n",
    "if p < alpha:  # null hypothesis: x comes from a normal distribution\n",
    "    print(\"The null hypothesis can be rejected/ Hipotesis nol ditolak\")\n",
    "else:\n",
    "    print(\"The null hypothesis cannot be rejected/ Hipotesis nol diterima\")"
   ]
  },
  {
   "cell_type": "markdown",
   "metadata": {},
   "source": [
    "***DARI DATA DIATAS DAPAT DISIMPULKAN BAHWA***\n",
    "\n",
    "<span style='color:#0066b2'>***Normalstat Test: (```< alpha```)***</span>\n",
    "- Yang berarti hypothesis 0 ***(dari normal test)*** dapat di tolak, dengan kata lain data ***tidak terdistribusi normal***"
   ]
  },
  {
   "cell_type": "markdown",
   "metadata": {},
   "source": [
    "## B. Distance"
   ]
  },
  {
   "cell_type": "markdown",
   "metadata": {},
   "source": [
    "### a) Titik Pusat (Central Tendency)"
   ]
  },
  {
   "cell_type": "code",
   "execution_count": 14,
   "metadata": {
    "ExecuteTime": {
     "end_time": "2020-07-08T04:37:37.663317Z",
     "start_time": "2020-07-08T04:37:37.654322Z"
    }
   },
   "outputs": [
    {
     "data": {
      "text/plain": [
       "count    13580.000000\n",
       "mean        10.137776\n",
       "std          5.868725\n",
       "min          0.000000\n",
       "25%          6.100000\n",
       "50%          9.200000\n",
       "75%         13.000000\n",
       "max         48.100000\n",
       "Name: Distance, dtype: float64"
      ]
     },
     "execution_count": 14,
     "metadata": {},
     "output_type": "execute_result"
    }
   ],
   "source": [
    "df['Distance'].describe()"
   ]
  },
  {
   "cell_type": "markdown",
   "metadata": {},
   "source": [
    "***DARI DATA DIATAS DAPAT DISIMPULKAN BAHWA***\n",
    "\n",
    "<span style='color:#0066b2'>***MEAN: (```10.137776```)***</span>\n",
    "- Merupakan nilai ***Mean*** dari data diatas atau Rata - rata dari Columns 'Distance' dari jumlah data sebanyak ```13580```\n",
    "\n",
    "<span style='color:#0066b2'>***MEDIAN: (```9.20```)***</span>\n",
    "- Nilai Median atau nilai dari nilai titik tengah pada posisi ***'50%'*** dari data diatas dengan sebaran data sebanyak ```13580``` yang diurutkan."
   ]
  },
  {
   "cell_type": "code",
   "execution_count": 15,
   "metadata": {
    "ExecuteTime": {
     "end_time": "2020-07-08T04:39:41.768096Z",
     "start_time": "2020-07-08T04:39:41.761086Z"
    }
   },
   "outputs": [
    {
     "data": {
      "text/plain": [
       "0    11.2\n",
       "dtype: float64"
      ]
     },
     "execution_count": 15,
     "metadata": {},
     "output_type": "execute_result"
    }
   ],
   "source": [
    "df['Distance'].mode()"
   ]
  },
  {
   "cell_type": "code",
   "execution_count": 17,
   "metadata": {
    "ExecuteTime": {
     "end_time": "2020-07-08T04:40:02.161689Z",
     "start_time": "2020-07-08T04:40:02.155687Z"
    }
   },
   "outputs": [
    {
     "data": {
      "text/plain": [
       "11.2    739\n",
       "Name: Distance, dtype: int64"
      ]
     },
     "execution_count": 17,
     "metadata": {},
     "output_type": "execute_result"
    }
   ],
   "source": [
    "df['Distance'].value_counts().head(1)"
   ]
  },
  {
   "cell_type": "markdown",
   "metadata": {},
   "source": [
    "***DARI DATA DIATAS DAPAT DISIMPULKAN BAHWA***\n",
    "\n",
    "<span style='color:#0066b2'>***MODE: (```11.2```)***</span>\n",
    "- Merupakan nilai ***MODE*** dari data diatas atau nilai dengan frekuensi terbanyak, yang berjumlah ```739``` data, dari sebaran data sebanyak ```13580```."
   ]
  },
  {
   "cell_type": "markdown",
   "metadata": {},
   "source": [
    "### b) Persebaran Data (Dispersion)"
   ]
  },
  {
   "cell_type": "code",
   "execution_count": 33,
   "metadata": {
    "ExecuteTime": {
     "end_time": "2020-07-08T06:04:21.552266Z",
     "start_time": "2020-07-08T06:04:21.547269Z"
    }
   },
   "outputs": [
    {
     "data": {
      "text/plain": [
       "34.44193245743205"
      ]
     },
     "execution_count": 33,
     "metadata": {},
     "output_type": "execute_result"
    }
   ],
   "source": [
    "df['Distance'].var()"
   ]
  },
  {
   "cell_type": "markdown",
   "metadata": {},
   "source": [
    "***DARI DATA DIATAS DAPAT DISIMPULKAN BAHWA***\n",
    "\n",
    "<span style='color:#0066b2'>***VARIANCE: (```34.44193245743205```)***</span>\n",
    "- Merupakan nilai ***VARIANCE*** dari ```13580``` data pada kolom 'Distance' memiliki nilai variance '34.44193245743205' yang menggambarkan seberapa besar tingkat variasi atau value dari datanya."
   ]
  },
  {
   "cell_type": "code",
   "execution_count": 34,
   "metadata": {
    "ExecuteTime": {
     "end_time": "2020-07-08T06:05:31.943582Z",
     "start_time": "2020-07-08T06:05:31.937584Z"
    }
   },
   "outputs": [
    {
     "data": {
      "text/plain": [
       "5.868724943071711"
      ]
     },
     "execution_count": 34,
     "metadata": {},
     "output_type": "execute_result"
    }
   ],
   "source": [
    "df['Distance'].std()"
   ]
  },
  {
   "cell_type": "markdown",
   "metadata": {},
   "source": [
    "***DARI DATA DIATAS DAPAT DISIMPULKAN BAHWA***\n",
    "\n",
    "<span style='color:#0066b2'>***STANDARD DEVIASI: (```5.868724943071711```)***</span>\n",
    "- Merupakan nilai ***STANDARD DEVIASI*** dari ```13580``` data pada kolom 'Distance' memiliki nilai standard deviasi '5.868724943071711' yang menggambarkan bahwa nilai tersebut meunjukan jarak dari setiap data terhadap mean pada kolom tersebut."
   ]
  },
  {
   "cell_type": "markdown",
   "metadata": {},
   "source": [
    "### c) Distribusi Data (Distribution)"
   ]
  },
  {
   "cell_type": "code",
   "execution_count": 35,
   "metadata": {
    "ExecuteTime": {
     "end_time": "2020-07-08T06:07:15.179230Z",
     "start_time": "2020-07-08T06:07:15.172234Z"
    }
   },
   "outputs": [
    {
     "name": "stdout",
     "output_type": "stream",
     "text": [
      "normal skewtest teststat = 57.048 pvalue = 0.0000\n"
     ]
    }
   ],
   "source": [
    "print(f'normal skewtest teststat = %6.3f pvalue = %6.4f' % stats.skewtest(df['Distance']))"
   ]
  },
  {
   "cell_type": "markdown",
   "metadata": {},
   "source": [
    "***DARI DATA DIATAS DAPAT DISIMPULKAN BAHWA***\n",
    "\n",
    "<span style='color:#0066b2'>***Normal Skewtest: (```57.048```)***</span>\n",
    "- Yang berarti nilai skewtest (+)57.048 ***(Positive Skewed)*** atau sangat condong ke kiri, dengan parameter distribusi normal nilai skewtest antara ```- 0.5 sampapai 0.5```"
   ]
  },
  {
   "cell_type": "code",
   "execution_count": 36,
   "metadata": {
    "ExecuteTime": {
     "end_time": "2020-07-08T06:08:28.269055Z",
     "start_time": "2020-07-08T06:08:28.262060Z"
    }
   },
   "outputs": [
    {
     "name": "stdout",
     "output_type": "stream",
     "text": [
      "normal kurtosistest teststat = 39.400 pvalue = 0.0000\n"
     ]
    }
   ],
   "source": [
    "print('normal kurtosistest teststat = %6.3f pvalue = %6.4f' % stats.kurtosistest(df['Distance']))"
   ]
  },
  {
   "cell_type": "markdown",
   "metadata": {},
   "source": [
    "***DARI DATA DIATAS DAPAT DISIMPULKAN BAHWA***\n",
    "\n",
    "<span style='color:#0066b2'>***Kurtosis Test: (```39.400```)***</span>\n",
    "- Yang berarti nilai kurtosis (+)39.400 ***(leptokurtik)*** atau sangat meruncing, dengan parameter distribusi normal nilai Kurtosis adalah ```3```."
   ]
  },
  {
   "cell_type": "code",
   "execution_count": 38,
   "metadata": {
    "ExecuteTime": {
     "end_time": "2020-07-08T06:09:50.950208Z",
     "start_time": "2020-07-08T06:09:50.943213Z"
    }
   },
   "outputs": [
    {
     "name": "stdout",
     "output_type": "stream",
     "text": [
      "p = 0.0\n",
      "The null hypothesis can be rejected/ Hipotesis nol ditolak\n"
     ]
    }
   ],
   "source": [
    "k2, p = stats.normaltest(df['Distance'])\n",
    "alpha = 0.001\n",
    "print(f\"p = {p}\")\n",
    "\n",
    "if p < alpha:  # null hypothesis: x comes from a normal distribution\n",
    "    print(\"The null hypothesis can be rejected/ Hipotesis nol ditolak\")\n",
    "else:\n",
    "    print(\"The null hypothesis cannot be rejected/ Hipotesis nol diterima\")"
   ]
  },
  {
   "cell_type": "markdown",
   "metadata": {},
   "source": [
    "***DARI DATA DIATAS DAPAT DISIMPULKAN BAHWA***\n",
    "\n",
    "<span style='color:#0066b2'>***Normalstat Test: (```< alpha```)***</span>\n",
    "- Yang berarti hypothesis 0 ***(dari normal test)*** dapat di tolak, dengan kata lain data ***tidak terdistribusi normal***"
   ]
  },
  {
   "cell_type": "markdown",
   "metadata": {},
   "source": [
    "## C. Price"
   ]
  },
  {
   "cell_type": "markdown",
   "metadata": {},
   "source": [
    "### a) Titik Pusat (Central Tendency)"
   ]
  },
  {
   "cell_type": "code",
   "execution_count": 18,
   "metadata": {
    "ExecuteTime": {
     "end_time": "2020-07-08T04:43:39.320913Z",
     "start_time": "2020-07-08T04:43:39.309921Z"
    }
   },
   "outputs": [
    {
     "data": {
      "text/plain": [
       "count    1.358000e+04\n",
       "mean     1.075684e+06\n",
       "std      6.393107e+05\n",
       "min      8.500000e+04\n",
       "25%      6.500000e+05\n",
       "50%      9.030000e+05\n",
       "75%      1.330000e+06\n",
       "max      9.000000e+06\n",
       "Name: Price, dtype: float64"
      ]
     },
     "execution_count": 18,
     "metadata": {},
     "output_type": "execute_result"
    }
   ],
   "source": [
    "df['Price'].describe()"
   ]
  },
  {
   "cell_type": "markdown",
   "metadata": {},
   "source": [
    "***DARI DATA DIATAS DAPAT DISIMPULKAN BAHWA***\n",
    "\n",
    "<span style='color:#0066b2'>***MEAN: (```1.075684e+06```)***</span>\n",
    "- Merupakan nilai ***Mean*** dari data diatas atau Rata - rata dari Columns 'Distance' dari jumlah data sebanyak ```13580```\n",
    "\n",
    "<span style='color:#0066b2'>***MEDIAN: (```9.030000e+05```)***</span>\n",
    "- Nilai Median atau nilai dari nilai titik tengah pada posisi ***'50%'*** dari data diatas dengan sebaran data sebanyak ```13580``` yang diurutkan."
   ]
  },
  {
   "cell_type": "code",
   "execution_count": 19,
   "metadata": {
    "ExecuteTime": {
     "end_time": "2020-07-08T04:45:35.054213Z",
     "start_time": "2020-07-08T04:45:35.046201Z"
    }
   },
   "outputs": [
    {
     "data": {
      "text/plain": [
       "0    1100000.0\n",
       "dtype: float64"
      ]
     },
     "execution_count": 19,
     "metadata": {},
     "output_type": "execute_result"
    }
   ],
   "source": [
    "df['Price'].mode()"
   ]
  },
  {
   "cell_type": "code",
   "execution_count": 21,
   "metadata": {
    "ExecuteTime": {
     "end_time": "2020-07-08T04:45:58.081780Z",
     "start_time": "2020-07-08T04:45:58.073783Z"
    }
   },
   "outputs": [
    {
     "data": {
      "text/plain": [
       "1100000.0    113\n",
       "Name: Price, dtype: int64"
      ]
     },
     "execution_count": 21,
     "metadata": {},
     "output_type": "execute_result"
    }
   ],
   "source": [
    "df['Price'].value_counts().head(1)"
   ]
  },
  {
   "cell_type": "markdown",
   "metadata": {},
   "source": [
    "***DARI DATA DIATAS DAPAT DISIMPULKAN BAHWA***\n",
    "\n",
    "<span style='color:#0066b2'>***MODE: (```1100000```)***</span>\n",
    "- Merupakan nilai ***MODE*** dari data diatas atau nilai dengan frekuensi terbanyak, yang berjumlah ```113``` data, dari sebaran data sebanyak ```13580```."
   ]
  },
  {
   "cell_type": "markdown",
   "metadata": {},
   "source": [
    "### b) Persebaran Data (Dispersion)"
   ]
  },
  {
   "cell_type": "code",
   "execution_count": 39,
   "metadata": {
    "ExecuteTime": {
     "end_time": "2020-07-08T06:12:23.209601Z",
     "start_time": "2020-07-08T06:12:23.203630Z"
    }
   },
   "outputs": [
    {
     "data": {
      "text/plain": [
       "408718202199.89923"
      ]
     },
     "execution_count": 39,
     "metadata": {},
     "output_type": "execute_result"
    }
   ],
   "source": [
    "df['Price'].var()"
   ]
  },
  {
   "cell_type": "markdown",
   "metadata": {},
   "source": [
    "***DARI DATA DIATAS DAPAT DISIMPULKAN BAHWA***\n",
    "\n",
    "<span style='color:#0066b2'>***VARIANCE: (```408718202199.89923```)***</span>\n",
    "- Merupakan nilai ***VARIANCE*** dari ```13580``` data pada kolom 'Price' memiliki nilai variance '408718202199.89923' yang menggambarkan seberapa besar tingkat variasi atau value dari datanya."
   ]
  },
  {
   "cell_type": "code",
   "execution_count": 40,
   "metadata": {
    "ExecuteTime": {
     "end_time": "2020-07-08T06:13:24.594152Z",
     "start_time": "2020-07-08T06:13:24.588157Z"
    }
   },
   "outputs": [
    {
     "data": {
      "text/plain": [
       "639310.724296018"
      ]
     },
     "execution_count": 40,
     "metadata": {},
     "output_type": "execute_result"
    }
   ],
   "source": [
    "df['Price'].std()"
   ]
  },
  {
   "cell_type": "markdown",
   "metadata": {},
   "source": [
    "***DARI DATA DIATAS DAPAT DISIMPULKAN BAHWA***\n",
    "\n",
    "<span style='color:#0066b2'>***STANDARD DEVIASI: (```639310.724296018```)***</span>\n",
    "- Merupakan nilai ***STANDARD DEVIASI*** dari ```13580``` data pada kolom 'Distance' memiliki nilai standard deviasi '639310.724296018' yang menggambarkan bahwa nilai tersebut meunjukan jarak dari setiap data terhadap mean pada kolom tersebut."
   ]
  },
  {
   "cell_type": "markdown",
   "metadata": {},
   "source": [
    "### c) Distribusi Data (Distribution)"
   ]
  },
  {
   "cell_type": "code",
   "execution_count": 41,
   "metadata": {
    "ExecuteTime": {
     "end_time": "2020-07-08T06:14:17.719857Z",
     "start_time": "2020-07-08T06:14:17.714846Z"
    }
   },
   "outputs": [
    {
     "name": "stdout",
     "output_type": "stream",
     "text": [
      "normal skewtest teststat = 67.410 pvalue = 0.0000\n"
     ]
    }
   ],
   "source": [
    "print(f'normal skewtest teststat = %6.3f pvalue = %6.4f' % stats.skewtest(df['Price']))"
   ]
  },
  {
   "cell_type": "markdown",
   "metadata": {},
   "source": [
    "***DARI DATA DIATAS DAPAT DISIMPULKAN BAHWA***\n",
    "\n",
    "<span style='color:#0066b2'>***Normal Skewtest: (```67.4108```)***</span>\n",
    "- Yang berarti nilai skewtest (+)67.410 ***(Positive Skewed)*** atau sangat condong ke kiri, dengan parameter distribusi normal nilai skewtest antara ```- 0.5 sampapai 0.5```"
   ]
  },
  {
   "cell_type": "code",
   "execution_count": 43,
   "metadata": {
    "ExecuteTime": {
     "end_time": "2020-07-08T06:15:15.706251Z",
     "start_time": "2020-07-08T06:15:15.700243Z"
    }
   },
   "outputs": [
    {
     "name": "stdout",
     "output_type": "stream",
     "text": [
      "normal kurtosistest teststat = 48.479 pvalue = 0.0000\n"
     ]
    }
   ],
   "source": [
    "print('normal kurtosistest teststat = %6.3f pvalue = %6.4f' % stats.kurtosistest(df['Price']))"
   ]
  },
  {
   "cell_type": "markdown",
   "metadata": {},
   "source": [
    "***DARI DATA DIATAS DAPAT DISIMPULKAN BAHWA***\n",
    "\n",
    "<span style='color:#0066b2'>***Kurtosis Test: (```48.479```)***</span>\n",
    "- Yang berarti nilai kurtosis (+)48.479 ***(leptokurtik)*** atau sangat meruncing, dengan parameter distribusi normal nilai Kurtosis adalah ```3```."
   ]
  },
  {
   "cell_type": "code",
   "execution_count": 44,
   "metadata": {
    "ExecuteTime": {
     "end_time": "2020-07-08T06:16:14.802276Z",
     "start_time": "2020-07-08T06:16:14.795269Z"
    }
   },
   "outputs": [
    {
     "name": "stdout",
     "output_type": "stream",
     "text": [
      "p = 0.0\n",
      "The null hypothesis can be rejected/ Hipotesis nol ditolak\n"
     ]
    }
   ],
   "source": [
    "k2, p = stats.normaltest(df['Price'])\n",
    "alpha = 0.001\n",
    "print(f\"p = {p}\")\n",
    "\n",
    "if p < alpha:  # null hypothesis: x comes from a normal distribution\n",
    "    print(\"The null hypothesis can be rejected/ Hipotesis nol ditolak\")\n",
    "else:\n",
    "    print(\"The null hypothesis cannot be rejected/ Hipotesis nol diterima\")"
   ]
  },
  {
   "cell_type": "markdown",
   "metadata": {},
   "source": [
    "***DARI DATA DIATAS DAPAT DISIMPULKAN BAHWA***\n",
    "\n",
    "<span style='color:#0066b2'>***Normalstat Test: (```< alpha```)***</span>\n",
    "- Yang berarti hypothesis 0 ***(dari normal test)*** dapat di tolak, dengan kata lain data ***tidak terdistribusi normal***"
   ]
  },
  {
   "cell_type": "markdown",
   "metadata": {},
   "source": [
    "# SOAL 2"
   ]
  },
  {
   "cell_type": "code",
   "execution_count": 97,
   "metadata": {
    "ExecuteTime": {
     "end_time": "2020-07-08T08:27:10.160134Z",
     "start_time": "2020-07-08T08:27:10.123166Z"
    }
   },
   "outputs": [
    {
     "data": {
      "text/html": [
       "<div>\n",
       "<style scoped>\n",
       "    .dataframe tbody tr th:only-of-type {\n",
       "        vertical-align: middle;\n",
       "    }\n",
       "\n",
       "    .dataframe tbody tr th {\n",
       "        vertical-align: top;\n",
       "    }\n",
       "\n",
       "    .dataframe thead th {\n",
       "        text-align: right;\n",
       "    }\n",
       "</style>\n",
       "<table border=\"1\" class=\"dataframe\">\n",
       "  <thead>\n",
       "    <tr style=\"text-align: right;\">\n",
       "      <th></th>\n",
       "      <th>count</th>\n",
       "      <th>mean</th>\n",
       "      <th>std</th>\n",
       "      <th>min</th>\n",
       "      <th>25%</th>\n",
       "      <th>50%</th>\n",
       "      <th>75%</th>\n",
       "      <th>max</th>\n",
       "    </tr>\n",
       "  </thead>\n",
       "  <tbody>\n",
       "    <tr>\n",
       "      <th>Landsize</th>\n",
       "      <td>13580.0</td>\n",
       "      <td>558.416127</td>\n",
       "      <td>3990.669241</td>\n",
       "      <td>0.0</td>\n",
       "      <td>177.0</td>\n",
       "      <td>440.0</td>\n",
       "      <td>651.0</td>\n",
       "      <td>433014.0</td>\n",
       "    </tr>\n",
       "    <tr>\n",
       "      <th>Distance</th>\n",
       "      <td>13580.0</td>\n",
       "      <td>10.137776</td>\n",
       "      <td>5.868725</td>\n",
       "      <td>0.0</td>\n",
       "      <td>6.1</td>\n",
       "      <td>9.2</td>\n",
       "      <td>13.0</td>\n",
       "      <td>48.1</td>\n",
       "    </tr>\n",
       "  </tbody>\n",
       "</table>\n",
       "</div>"
      ],
      "text/plain": [
       "            count        mean          std  min    25%    50%    75%       max\n",
       "Landsize  13580.0  558.416127  3990.669241  0.0  177.0  440.0  651.0  433014.0\n",
       "Distance  13580.0   10.137776     5.868725  0.0    6.1    9.2   13.0      48.1"
      ]
     },
     "execution_count": 97,
     "metadata": {},
     "output_type": "execute_result"
    }
   ],
   "source": [
    "df_stats = df[['Landsize','Distance']].describe().transpose()\n",
    "df_stats"
   ]
  },
  {
   "cell_type": "code",
   "execution_count": 91,
   "metadata": {
    "ExecuteTime": {
     "end_time": "2020-07-08T08:23:19.834582Z",
     "start_time": "2020-07-08T08:23:18.905386Z"
    }
   },
   "outputs": [],
   "source": [
    "iqr = df_stats['75%'] - df_stats['25%']\n",
    "batas_bawah = df_stats['25%'] - (1.5*iqr)\n",
    "batas_atas = df_stats['75%'] + (1.5*iqr)\n",
    "\n",
    "outlier_landsize = [i for i in df['Landsize'] if i < batas_bawah['Landsize'].item() or i > batas_atas['Landsize'].item()]\n",
    "\n",
    "outlier_distance = [i for i in df['Distance'] if i < batas_bawah['Distance'].item() or \n",
    "               i > batas_atas['Distance'].item()]\n"
   ]
  },
  {
   "cell_type": "code",
   "execution_count": 92,
   "metadata": {
    "ExecuteTime": {
     "end_time": "2020-07-08T08:23:49.713256Z",
     "start_time": "2020-07-08T08:23:49.704263Z"
    }
   },
   "outputs": [
    {
     "name": "stdout",
     "output_type": "stream",
     "text": [
      "Jumlah Outlier Pada Column Landsize : 368 Data\n"
     ]
    }
   ],
   "source": [
    "print('Jumlah Outlier Pada Column Landsize :', len(outlier_landsize), 'Data')"
   ]
  },
  {
   "cell_type": "code",
   "execution_count": 93,
   "metadata": {
    "ExecuteTime": {
     "end_time": "2020-07-08T08:24:52.283060Z",
     "start_time": "2020-07-08T08:24:52.279067Z"
    }
   },
   "outputs": [
    {
     "name": "stdout",
     "output_type": "stream",
     "text": [
      "Jumlah Outlier Pada Column Distance : 411 Data\n"
     ]
    }
   ],
   "source": [
    "print('Jumlah Outlier Pada Column Distance :', len(outlier_distance), 'Data')"
   ]
  },
  {
   "cell_type": "markdown",
   "metadata": {},
   "source": [
    "## A. Landsize"
   ]
  },
  {
   "cell_type": "code",
   "execution_count": 98,
   "metadata": {
    "ExecuteTime": {
     "end_time": "2020-07-08T08:27:56.278425Z",
     "start_time": "2020-07-08T08:27:56.273448Z"
    }
   },
   "outputs": [
    {
     "name": "stdout",
     "output_type": "stream",
     "text": [
      "Jumlah Outlier Pada Kolom Landsize : 368 Data\n"
     ]
    }
   ],
   "source": [
    "print('Jumlah Outlier Pada Kolom Landsize :', len(outlier_landsize), 'Data')"
   ]
  },
  {
   "cell_type": "markdown",
   "metadata": {},
   "source": [
    "***Data diatas merupakan index dari setiap Outlier***"
   ]
  },
  {
   "cell_type": "code",
   "execution_count": 83,
   "metadata": {
    "ExecuteTime": {
     "end_time": "2020-07-08T07:36:16.804168Z",
     "start_time": "2020-07-08T07:36:16.632218Z"
    }
   },
   "outputs": [
    {
     "data": {
      "image/png": "[encoded data removed]",
      "text/plain": [
       "<Figure size 1440x216 with 1 Axes>"
      ]
     },
     "metadata": {
      "needs_background": "light"
     },
     "output_type": "display_data"
    }
   ],
   "source": [
    " plt.subplots(figsize=(20,3))\n",
    "\n",
    "#Boxplot Landsize\n",
    "sns.boxplot(x = df['Landsize'], color = 'c')\n",
    "\n",
    "plt.savefig('SOAL 2_Landsize.png')"
   ]
  },
  {
   "cell_type": "markdown",
   "metadata": {},
   "source": [
    "***BOXPLOT***:  LANDSIZE, dari banyaknya data dengan nilai 0 maka terbentuk boxplot dengan ***Positive Skew*** yang mana nilai q1, q2, q3 sangat dekat dengan value 0 dan terdapat 368 outlier dengan value dari data diatas."
   ]
  },
  {
   "cell_type": "markdown",
   "metadata": {},
   "source": [
    "## B. Distance"
   ]
  },
  {
   "cell_type": "code",
   "execution_count": 100,
   "metadata": {
    "ExecuteTime": {
     "end_time": "2020-07-08T08:29:29.601465Z",
     "start_time": "2020-07-08T08:29:29.597466Z"
    }
   },
   "outputs": [
    {
     "name": "stdout",
     "output_type": "stream",
     "text": [
      "Jumlah Outlier Pada Kolom Distance : 411 Data\n"
     ]
    }
   ],
   "source": [
    "print('Jumlah Outlier Pada Kolom Distance :', len(outlier_distance), 'Data')"
   ]
  },
  {
   "cell_type": "code",
   "execution_count": 84,
   "metadata": {
    "ExecuteTime": {
     "end_time": "2020-07-08T07:36:28.609744Z",
     "start_time": "2020-07-08T07:36:28.423854Z"
    }
   },
   "outputs": [
    {
     "data": {
      "image/png": "[encoded data removed]",
      "text/plain": [
       "<Figure size 1440x216 with 1 Axes>"
      ]
     },
     "metadata": {
      "needs_background": "light"
     },
     "output_type": "display_data"
    }
   ],
   "source": [
    " plt.subplots(figsize=(20,3))\n",
    "\n",
    "#Boxplot Landsize\n",
    "sns.boxplot(x = df['Distance'], color = 'gold')\n",
    "\n",
    "plt.savefig('SOAL 2_Distance.png')"
   ]
  },
  {
   "cell_type": "markdown",
   "metadata": {},
   "source": [
    "***BOXPLOT***:  DISTANCE, dari banyaknya data dengan nilai 11.2 maka terbentuk boxplot dengan ***Positive Skew*** yang mana nilai q1 = 6.100000, q2 = 9.200000, q3 = 13.000000, dan terdapat 411 outlier dengan value dari data diatas."
   ]
  },
  {
   "cell_type": "markdown",
   "metadata": {},
   "source": [
    "# SOAL 3"
   ]
  },
  {
   "cell_type": "markdown",
   "metadata": {},
   "source": [
    "## A. Landsize"
   ]
  },
  {
   "cell_type": "code",
   "execution_count": 80,
   "metadata": {
    "ExecuteTime": {
     "end_time": "2020-07-08T07:34:43.949739Z",
     "start_time": "2020-07-08T07:34:43.289421Z"
    }
   },
   "outputs": [
    {
     "data": {
      "image/png": "[encoded data removed]",
      "text/plain": [
       "<Figure size 1440x1440 with 1 Axes>"
      ]
     },
     "metadata": {
      "needs_background": "light"
     },
     "output_type": "display_data"
    }
   ],
   "source": [
    "plt.subplots(figsize=(20,20))\n",
    "\n",
    "sns.distplot(df['Landsize'])\n",
    "\n",
    "plt.savefig('SOAL 3_Landsize.png')"
   ]
  },
  {
   "cell_type": "markdown",
   "metadata": {},
   "source": [
    "***DARI GRAFIK DIATAS DAPAT DISIMPULKAN BAHWA***\n",
    "\n",
    "- Data tidak terdistribusi normal yang mana dalam perhitungan parameter sebelumnya dinyatakan kalau sebaran data secara skewtest = ***positive skew*** dan dari kurtosis test = ***leptokurtik*** seperti tergambar diatas."
   ]
  },
  {
   "cell_type": "markdown",
   "metadata": {},
   "source": [
    "## B. YearBuilt "
   ]
  },
  {
   "cell_type": "code",
   "execution_count": 81,
   "metadata": {
    "ExecuteTime": {
     "end_time": "2020-07-08T07:35:26.655940Z",
     "start_time": "2020-07-08T07:35:26.088108Z"
    }
   },
   "outputs": [
    {
     "data": {
      "image/png": "[encoded data removed]",
      "text/plain": [
       "<Figure size 1440x1440 with 1 Axes>"
      ]
     },
     "metadata": {
      "needs_background": "light"
     },
     "output_type": "display_data"
    }
   ],
   "source": [
    "plt.subplots(figsize=(20,20))\n",
    "\n",
    "sns.distplot(df['YearBuilt'])\n",
    "\n",
    "plt.savefig('SOAL 3_YearBuilt.png')"
   ]
  },
  {
   "cell_type": "markdown",
   "metadata": {},
   "source": [
    "***DARI GRAFIK DIATAS DAPAT DISIMPULKAN BAHWA***\n",
    "\n",
    "- Data tidak terdistribusi normal  dimana berdasar gambar diatas menggabarkan data ***negative skew*** debentuk oleh beberapa data YearBuilt yang di bangun antara tahun ***1200 - 1800***, serta tergambar kalau data secara kurtosis menunjukan **Leptokurtik** yang di bentuk oleh banyaknya jumlah daya YearBuilt yang dibangun pada tahun ***1900 keatas***."
   ]
  },
  {
   "cell_type": "code",
   "execution_count": null,
   "metadata": {},
   "outputs": [],
   "source": []
  },
  {
   "cell_type": "code",
   "execution_count": null,
   "metadata": {},
   "outputs": [],
   "source": []
  },
  {
   "cell_type": "code",
   "execution_count": null,
   "metadata": {},
   "outputs": [],
   "source": []
  },
  {
   "cell_type": "markdown",
   "metadata": {},
   "source": [
    "# SOAL 4"
   ]
  },
  {
   "cell_type": "code",
   "execution_count": 69,
   "metadata": {
    "ExecuteTime": {
     "end_time": "2020-07-08T06:59:19.401190Z",
     "start_time": "2020-07-08T06:59:19.361222Z"
    }
   },
   "outputs": [
    {
     "data": {
      "text/html": [
       "<div>\n",
       "<style scoped>\n",
       "    .dataframe tbody tr th:only-of-type {\n",
       "        vertical-align: middle;\n",
       "    }\n",
       "\n",
       "    .dataframe tbody tr th {\n",
       "        vertical-align: top;\n",
       "    }\n",
       "\n",
       "    .dataframe thead th {\n",
       "        text-align: right;\n",
       "    }\n",
       "</style>\n",
       "<table border=\"1\" class=\"dataframe\">\n",
       "  <thead>\n",
       "    <tr style=\"text-align: right;\">\n",
       "      <th></th>\n",
       "      <th>Suburb</th>\n",
       "      <th>Address</th>\n",
       "      <th>Rooms</th>\n",
       "      <th>Type</th>\n",
       "      <th>Price</th>\n",
       "      <th>Method</th>\n",
       "      <th>SellerG</th>\n",
       "      <th>Date</th>\n",
       "      <th>Distance</th>\n",
       "      <th>Postcode</th>\n",
       "      <th>...</th>\n",
       "      <th>Bathroom</th>\n",
       "      <th>Car</th>\n",
       "      <th>Landsize</th>\n",
       "      <th>BuildingArea</th>\n",
       "      <th>YearBuilt</th>\n",
       "      <th>CouncilArea</th>\n",
       "      <th>Lattitude</th>\n",
       "      <th>Longtitude</th>\n",
       "      <th>Regionname</th>\n",
       "      <th>Propertycount</th>\n",
       "    </tr>\n",
       "  </thead>\n",
       "  <tbody>\n",
       "    <tr>\n",
       "      <th>0</th>\n",
       "      <td>Abbotsford</td>\n",
       "      <td>85 Turner St</td>\n",
       "      <td>2</td>\n",
       "      <td>h</td>\n",
       "      <td>1480000.0</td>\n",
       "      <td>S</td>\n",
       "      <td>Biggin</td>\n",
       "      <td>3/12/2016</td>\n",
       "      <td>2.5</td>\n",
       "      <td>3067.0</td>\n",
       "      <td>...</td>\n",
       "      <td>1.0</td>\n",
       "      <td>1.0</td>\n",
       "      <td>202.0</td>\n",
       "      <td>NaN</td>\n",
       "      <td>NaN</td>\n",
       "      <td>Yarra</td>\n",
       "      <td>-37.7996</td>\n",
       "      <td>144.9984</td>\n",
       "      <td>Northern Metropolitan</td>\n",
       "      <td>4019.0</td>\n",
       "    </tr>\n",
       "    <tr>\n",
       "      <th>1</th>\n",
       "      <td>Abbotsford</td>\n",
       "      <td>25 Bloomburg St</td>\n",
       "      <td>2</td>\n",
       "      <td>h</td>\n",
       "      <td>1035000.0</td>\n",
       "      <td>S</td>\n",
       "      <td>Biggin</td>\n",
       "      <td>4/02/2016</td>\n",
       "      <td>2.5</td>\n",
       "      <td>3067.0</td>\n",
       "      <td>...</td>\n",
       "      <td>1.0</td>\n",
       "      <td>0.0</td>\n",
       "      <td>156.0</td>\n",
       "      <td>79.0</td>\n",
       "      <td>1900.0</td>\n",
       "      <td>Yarra</td>\n",
       "      <td>-37.8079</td>\n",
       "      <td>144.9934</td>\n",
       "      <td>Northern Metropolitan</td>\n",
       "      <td>4019.0</td>\n",
       "    </tr>\n",
       "    <tr>\n",
       "      <th>2</th>\n",
       "      <td>Abbotsford</td>\n",
       "      <td>5 Charles St</td>\n",
       "      <td>3</td>\n",
       "      <td>h</td>\n",
       "      <td>1465000.0</td>\n",
       "      <td>SP</td>\n",
       "      <td>Biggin</td>\n",
       "      <td>4/03/2017</td>\n",
       "      <td>2.5</td>\n",
       "      <td>3067.0</td>\n",
       "      <td>...</td>\n",
       "      <td>2.0</td>\n",
       "      <td>0.0</td>\n",
       "      <td>134.0</td>\n",
       "      <td>150.0</td>\n",
       "      <td>1900.0</td>\n",
       "      <td>Yarra</td>\n",
       "      <td>-37.8093</td>\n",
       "      <td>144.9944</td>\n",
       "      <td>Northern Metropolitan</td>\n",
       "      <td>4019.0</td>\n",
       "    </tr>\n",
       "    <tr>\n",
       "      <th>3</th>\n",
       "      <td>Abbotsford</td>\n",
       "      <td>40 Federation La</td>\n",
       "      <td>3</td>\n",
       "      <td>h</td>\n",
       "      <td>850000.0</td>\n",
       "      <td>PI</td>\n",
       "      <td>Biggin</td>\n",
       "      <td>4/03/2017</td>\n",
       "      <td>2.5</td>\n",
       "      <td>3067.0</td>\n",
       "      <td>...</td>\n",
       "      <td>2.0</td>\n",
       "      <td>1.0</td>\n",
       "      <td>94.0</td>\n",
       "      <td>NaN</td>\n",
       "      <td>NaN</td>\n",
       "      <td>Yarra</td>\n",
       "      <td>-37.7969</td>\n",
       "      <td>144.9969</td>\n",
       "      <td>Northern Metropolitan</td>\n",
       "      <td>4019.0</td>\n",
       "    </tr>\n",
       "    <tr>\n",
       "      <th>4</th>\n",
       "      <td>Abbotsford</td>\n",
       "      <td>55a Park St</td>\n",
       "      <td>4</td>\n",
       "      <td>h</td>\n",
       "      <td>1600000.0</td>\n",
       "      <td>VB</td>\n",
       "      <td>Nelson</td>\n",
       "      <td>4/06/2016</td>\n",
       "      <td>2.5</td>\n",
       "      <td>3067.0</td>\n",
       "      <td>...</td>\n",
       "      <td>1.0</td>\n",
       "      <td>2.0</td>\n",
       "      <td>120.0</td>\n",
       "      <td>142.0</td>\n",
       "      <td>2014.0</td>\n",
       "      <td>Yarra</td>\n",
       "      <td>-37.8072</td>\n",
       "      <td>144.9941</td>\n",
       "      <td>Northern Metropolitan</td>\n",
       "      <td>4019.0</td>\n",
       "    </tr>\n",
       "  </tbody>\n",
       "</table>\n",
       "<p>5 rows × 21 columns</p>\n",
       "</div>"
      ],
      "text/plain": [
       "       Suburb           Address  Rooms Type      Price Method SellerG  \\\n",
       "0  Abbotsford      85 Turner St      2    h  1480000.0      S  Biggin   \n",
       "1  Abbotsford   25 Bloomburg St      2    h  1035000.0      S  Biggin   \n",
       "2  Abbotsford      5 Charles St      3    h  1465000.0     SP  Biggin   \n",
       "3  Abbotsford  40 Federation La      3    h   850000.0     PI  Biggin   \n",
       "4  Abbotsford       55a Park St      4    h  1600000.0     VB  Nelson   \n",
       "\n",
       "        Date  Distance  Postcode  ...  Bathroom  Car  Landsize  BuildingArea  \\\n",
       "0  3/12/2016       2.5    3067.0  ...       1.0  1.0     202.0           NaN   \n",
       "1  4/02/2016       2.5    3067.0  ...       1.0  0.0     156.0          79.0   \n",
       "2  4/03/2017       2.5    3067.0  ...       2.0  0.0     134.0         150.0   \n",
       "3  4/03/2017       2.5    3067.0  ...       2.0  1.0      94.0           NaN   \n",
       "4  4/06/2016       2.5    3067.0  ...       1.0  2.0     120.0         142.0   \n",
       "\n",
       "   YearBuilt  CouncilArea Lattitude  Longtitude             Regionname  \\\n",
       "0        NaN        Yarra  -37.7996    144.9984  Northern Metropolitan   \n",
       "1     1900.0        Yarra  -37.8079    144.9934  Northern Metropolitan   \n",
       "2     1900.0        Yarra  -37.8093    144.9944  Northern Metropolitan   \n",
       "3        NaN        Yarra  -37.7969    144.9969  Northern Metropolitan   \n",
       "4     2014.0        Yarra  -37.8072    144.9941  Northern Metropolitan   \n",
       "\n",
       "  Propertycount  \n",
       "0        4019.0  \n",
       "1        4019.0  \n",
       "2        4019.0  \n",
       "3        4019.0  \n",
       "4        4019.0  \n",
       "\n",
       "[5 rows x 21 columns]"
      ]
     },
     "execution_count": 69,
     "metadata": {},
     "output_type": "execute_result"
    }
   ],
   "source": [
    "df.head()"
   ]
  },
  {
   "cell_type": "code",
   "execution_count": 74,
   "metadata": {
    "ExecuteTime": {
     "end_time": "2020-07-08T07:05:03.165834Z",
     "start_time": "2020-07-08T07:05:03.138857Z"
    }
   },
   "outputs": [
    {
     "data": {
      "text/html": [
       "<div>\n",
       "<style scoped>\n",
       "    .dataframe tbody tr th:only-of-type {\n",
       "        vertical-align: middle;\n",
       "    }\n",
       "\n",
       "    .dataframe tbody tr th {\n",
       "        vertical-align: top;\n",
       "    }\n",
       "\n",
       "    .dataframe thead th {\n",
       "        text-align: right;\n",
       "    }\n",
       "</style>\n",
       "<table border=\"1\" class=\"dataframe\">\n",
       "  <thead>\n",
       "    <tr style=\"text-align: right;\">\n",
       "      <th></th>\n",
       "      <th>YearBuilt</th>\n",
       "      <th>Rooms</th>\n",
       "      <th>Price</th>\n",
       "      <th>Distance</th>\n",
       "      <th>Postcode</th>\n",
       "      <th>Bedroom2</th>\n",
       "      <th>Bathroom</th>\n",
       "      <th>Car</th>\n",
       "      <th>Landsize</th>\n",
       "      <th>BuildingArea</th>\n",
       "      <th>Lattitude</th>\n",
       "      <th>Longtitude</th>\n",
       "      <th>Propertycount</th>\n",
       "    </tr>\n",
       "  </thead>\n",
       "  <tbody>\n",
       "    <tr>\n",
       "      <th>0</th>\n",
       "      <td>1196.0</td>\n",
       "      <td>3.000000</td>\n",
       "      <td>1.200000e+06</td>\n",
       "      <td>14.200000</td>\n",
       "      <td>3149.000000</td>\n",
       "      <td>3.000000</td>\n",
       "      <td>1.000000</td>\n",
       "      <td>4.000000</td>\n",
       "      <td>807.000000</td>\n",
       "      <td>117.000000</td>\n",
       "      <td>-37.867880</td>\n",
       "      <td>145.121210</td>\n",
       "      <td>13366.000000</td>\n",
       "    </tr>\n",
       "    <tr>\n",
       "      <th>1</th>\n",
       "      <td>1830.0</td>\n",
       "      <td>2.000000</td>\n",
       "      <td>8.550000e+05</td>\n",
       "      <td>1.600000</td>\n",
       "      <td>3066.000000</td>\n",
       "      <td>2.000000</td>\n",
       "      <td>1.000000</td>\n",
       "      <td>1.000000</td>\n",
       "      <td>2886.000000</td>\n",
       "      <td>122.000000</td>\n",
       "      <td>-37.804200</td>\n",
       "      <td>144.984500</td>\n",
       "      <td>4553.000000</td>\n",
       "    </tr>\n",
       "    <tr>\n",
       "      <th>2</th>\n",
       "      <td>1850.0</td>\n",
       "      <td>2.500000</td>\n",
       "      <td>1.179500e+06</td>\n",
       "      <td>3.700000</td>\n",
       "      <td>3137.250000</td>\n",
       "      <td>2.500000</td>\n",
       "      <td>1.750000</td>\n",
       "      <td>1.250000</td>\n",
       "      <td>36.750000</td>\n",
       "      <td>82.666667</td>\n",
       "      <td>-37.831400</td>\n",
       "      <td>144.986100</td>\n",
       "      <td>10432.750000</td>\n",
       "    </tr>\n",
       "    <tr>\n",
       "      <th>3</th>\n",
       "      <td>1854.0</td>\n",
       "      <td>4.000000</td>\n",
       "      <td>3.310000e+06</td>\n",
       "      <td>1.600000</td>\n",
       "      <td>3065.000000</td>\n",
       "      <td>4.000000</td>\n",
       "      <td>4.000000</td>\n",
       "      <td>2.000000</td>\n",
       "      <td>337.000000</td>\n",
       "      <td>291.000000</td>\n",
       "      <td>-37.805200</td>\n",
       "      <td>144.973900</td>\n",
       "      <td>5825.000000</td>\n",
       "    </tr>\n",
       "    <tr>\n",
       "      <th>4</th>\n",
       "      <td>1856.0</td>\n",
       "      <td>4.000000</td>\n",
       "      <td>2.260000e+06</td>\n",
       "      <td>2.100000</td>\n",
       "      <td>3205.000000</td>\n",
       "      <td>5.000000</td>\n",
       "      <td>3.000000</td>\n",
       "      <td>0.000000</td>\n",
       "      <td>190.000000</td>\n",
       "      <td>232.000000</td>\n",
       "      <td>-37.837700</td>\n",
       "      <td>144.965300</td>\n",
       "      <td>5943.000000</td>\n",
       "    </tr>\n",
       "    <tr>\n",
       "      <th>...</th>\n",
       "      <td>...</td>\n",
       "      <td>...</td>\n",
       "      <td>...</td>\n",
       "      <td>...</td>\n",
       "      <td>...</td>\n",
       "      <td>...</td>\n",
       "      <td>...</td>\n",
       "      <td>...</td>\n",
       "      <td>...</td>\n",
       "      <td>...</td>\n",
       "      <td>...</td>\n",
       "      <td>...</td>\n",
       "      <td>...</td>\n",
       "    </tr>\n",
       "    <tr>\n",
       "      <th>139</th>\n",
       "      <td>2014.0</td>\n",
       "      <td>2.900000</td>\n",
       "      <td>9.219150e+05</td>\n",
       "      <td>10.166000</td>\n",
       "      <td>3089.120000</td>\n",
       "      <td>2.890000</td>\n",
       "      <td>1.950000</td>\n",
       "      <td>1.580000</td>\n",
       "      <td>273.260000</td>\n",
       "      <td>144.662921</td>\n",
       "      <td>-37.796341</td>\n",
       "      <td>144.974806</td>\n",
       "      <td>8713.220000</td>\n",
       "    </tr>\n",
       "    <tr>\n",
       "      <th>140</th>\n",
       "      <td>2015.0</td>\n",
       "      <td>3.276923</td>\n",
       "      <td>1.231485e+06</td>\n",
       "      <td>10.669231</td>\n",
       "      <td>3108.615385</td>\n",
       "      <td>3.200000</td>\n",
       "      <td>2.261538</td>\n",
       "      <td>1.646154</td>\n",
       "      <td>446.200000</td>\n",
       "      <td>195.558333</td>\n",
       "      <td>-37.796393</td>\n",
       "      <td>144.986468</td>\n",
       "      <td>6800.446154</td>\n",
       "    </tr>\n",
       "    <tr>\n",
       "      <th>141</th>\n",
       "      <td>2016.0</td>\n",
       "      <td>3.500000</td>\n",
       "      <td>1.523655e+06</td>\n",
       "      <td>9.793103</td>\n",
       "      <td>3096.189655</td>\n",
       "      <td>3.534483</td>\n",
       "      <td>2.534483</td>\n",
       "      <td>1.706897</td>\n",
       "      <td>425.517241</td>\n",
       "      <td>226.701754</td>\n",
       "      <td>-37.803666</td>\n",
       "      <td>144.997946</td>\n",
       "      <td>6746.706897</td>\n",
       "    </tr>\n",
       "    <tr>\n",
       "      <th>142</th>\n",
       "      <td>2017.0</td>\n",
       "      <td>3.444444</td>\n",
       "      <td>1.037972e+06</td>\n",
       "      <td>9.916667</td>\n",
       "      <td>3058.333333</td>\n",
       "      <td>3.555556</td>\n",
       "      <td>2.444444</td>\n",
       "      <td>1.666667</td>\n",
       "      <td>510.777778</td>\n",
       "      <td>203.687500</td>\n",
       "      <td>-37.784944</td>\n",
       "      <td>144.939537</td>\n",
       "      <td>6145.277778</td>\n",
       "    </tr>\n",
       "    <tr>\n",
       "      <th>143</th>\n",
       "      <td>2018.0</td>\n",
       "      <td>2.000000</td>\n",
       "      <td>1.310000e+06</td>\n",
       "      <td>10.700000</td>\n",
       "      <td>3187.000000</td>\n",
       "      <td>4.000000</td>\n",
       "      <td>3.000000</td>\n",
       "      <td>2.000000</td>\n",
       "      <td>302.000000</td>\n",
       "      <td>250.000000</td>\n",
       "      <td>-37.918200</td>\n",
       "      <td>145.023100</td>\n",
       "      <td>6938.000000</td>\n",
       "    </tr>\n",
       "  </tbody>\n",
       "</table>\n",
       "<p>144 rows × 13 columns</p>\n",
       "</div>"
      ],
      "text/plain": [
       "     YearBuilt     Rooms         Price   Distance     Postcode  Bedroom2  \\\n",
       "0       1196.0  3.000000  1.200000e+06  14.200000  3149.000000  3.000000   \n",
       "1       1830.0  2.000000  8.550000e+05   1.600000  3066.000000  2.000000   \n",
       "2       1850.0  2.500000  1.179500e+06   3.700000  3137.250000  2.500000   \n",
       "3       1854.0  4.000000  3.310000e+06   1.600000  3065.000000  4.000000   \n",
       "4       1856.0  4.000000  2.260000e+06   2.100000  3205.000000  5.000000   \n",
       "..         ...       ...           ...        ...          ...       ...   \n",
       "139     2014.0  2.900000  9.219150e+05  10.166000  3089.120000  2.890000   \n",
       "140     2015.0  3.276923  1.231485e+06  10.669231  3108.615385  3.200000   \n",
       "141     2016.0  3.500000  1.523655e+06   9.793103  3096.189655  3.534483   \n",
       "142     2017.0  3.444444  1.037972e+06   9.916667  3058.333333  3.555556   \n",
       "143     2018.0  2.000000  1.310000e+06  10.700000  3187.000000  4.000000   \n",
       "\n",
       "     Bathroom       Car     Landsize  BuildingArea  Lattitude  Longtitude  \\\n",
       "0    1.000000  4.000000   807.000000    117.000000 -37.867880  145.121210   \n",
       "1    1.000000  1.000000  2886.000000    122.000000 -37.804200  144.984500   \n",
       "2    1.750000  1.250000    36.750000     82.666667 -37.831400  144.986100   \n",
       "3    4.000000  2.000000   337.000000    291.000000 -37.805200  144.973900   \n",
       "4    3.000000  0.000000   190.000000    232.000000 -37.837700  144.965300   \n",
       "..        ...       ...          ...           ...        ...         ...   \n",
       "139  1.950000  1.580000   273.260000    144.662921 -37.796341  144.974806   \n",
       "140  2.261538  1.646154   446.200000    195.558333 -37.796393  144.986468   \n",
       "141  2.534483  1.706897   425.517241    226.701754 -37.803666  144.997946   \n",
       "142  2.444444  1.666667   510.777778    203.687500 -37.784944  144.939537   \n",
       "143  3.000000  2.000000   302.000000    250.000000 -37.918200  145.023100   \n",
       "\n",
       "     Propertycount  \n",
       "0     13366.000000  \n",
       "1      4553.000000  \n",
       "2     10432.750000  \n",
       "3      5825.000000  \n",
       "4      5943.000000  \n",
       "..             ...  \n",
       "139    8713.220000  \n",
       "140    6800.446154  \n",
       "141    6746.706897  \n",
       "142    6145.277778  \n",
       "143    6938.000000  \n",
       "\n",
       "[144 rows x 13 columns]"
      ]
     },
     "execution_count": 74,
     "metadata": {},
     "output_type": "execute_result"
    }
   ],
   "source": [
    "df_meanyear = df.groupby('YearBuilt').mean()\n",
    "df_meanyear1 = df_meanyear.reset_index()\n",
    "df_meanyear1"
   ]
  },
  {
   "cell_type": "code",
   "execution_count": 86,
   "metadata": {
    "ExecuteTime": {
     "end_time": "2020-07-08T07:37:51.534130Z",
     "start_time": "2020-07-08T07:37:51.275311Z"
    }
   },
   "outputs": [
    {
     "data": {
      "image/png": "[encoded data removed]",
      "text/plain": [
       "<Figure size 720x432 with 1 Axes>"
      ]
     },
     "metadata": {
      "needs_background": "light"
     },
     "output_type": "display_data"
    }
   ],
   "source": [
    "# membuat figure dengan ukuran tertentu\n",
    "plt.figure(figsize = (10, 6))\n",
    "\n",
    "x = df_meanyear1['YearBuilt']\n",
    "y = df_meanyear1['Price'] #melihat performa saham cleo berbasis harga pembukaan\n",
    "\n",
    "plt.plot(x, y, 'red')\n",
    "plt.title('Perkembangan Harga Properti terhadap Tahun Pembangunan', size=20) #memberi judul\n",
    "plt.xlabel('Tahun', size=15) #keterangan sumbu x\n",
    "plt.ylabel('Harga Properti', size=15) # keterangan sumbu y\n",
    "plt.grid() #menambahkan grid\n",
    "# plt.show()\n",
    "\n",
    "plt.savefig('SOAL 4.png')"
   ]
  },
  {
   "cell_type": "markdown",
   "metadata": {},
   "source": [
    "***DARI GRAFIK DIATAS DAPAT DISIMPULKAN BAHWA***\n",
    "\n",
    "- Perkembangan Rata - rata Harga Properti terhadap Tahun Pembuatan menunukan Properti yang di bangun pada kisaran tahun ***1200 - 1800*** mengalami penurunan Harga seiring bertambahnya Tahun pembuatan Properti.\n",
    "- Tetapi properti yang di bangun pada kisaran tahun ***1800 - 1900*** terjadi perubahan trend yang menunjukan bahwa properti tersebut mengalami kenaikan seiring dengan naiknya Tahun Pembuatan.\n",
    "- Namun trend kembali berubah seperti di awal properti yang di bangun diatas tahun ***1900*** terus mengalami penurunan harga seiring bertambahnya tahun pembuatan"
   ]
  },
  {
   "cell_type": "markdown",
   "metadata": {},
   "source": [
    "# SOAL 5"
   ]
  },
  {
   "cell_type": "code",
   "execution_count": 87,
   "metadata": {
    "ExecuteTime": {
     "end_time": "2020-07-08T07:38:01.793159Z",
     "start_time": "2020-07-08T07:38:01.459309Z"
    },
    "scrolled": true
   },
   "outputs": [
    {
     "data": {
      "image/png": "[encoded data removed]",
      "text/plain": [
       "<Figure size 864x432 with 2 Axes>"
      ]
     },
     "metadata": {
      "needs_background": "light"
     },
     "output_type": "display_data"
    }
   ],
   "source": [
    "plt.figure(figsize=(12,6))\n",
    "sns.heatmap(df[['Landsize','Distance','Rooms','Price']].corr('spearman'), annot = True)\n",
    "plt.title('Korelasi antara kolom :  Landsize, Distance & Rooms')\n",
    "\n",
    "# plt.show()\n",
    "plt.savefig('SOAL 5.png')"
   ]
  },
  {
   "cell_type": "markdown",
   "metadata": {},
   "source": [
    "***DARI GRAFIK DIATAS DAPAT DISIMPULKAN BAHWA***\n",
    "\n",
    "- Metode Korelasi yang digunakan adalah metode korelasi **'Spearman'** karna cocok dengan sebaran data dengan sifat data **tidak terdistribusi normal**, sifat data **continous**, dengan parameter angka mendekati **1 atau -1** maka korelasi antar feature semakin **kuat**, angka korelasi mendekati **0** maka korelasi **lemah**.\n",
    "- Korelasi ***Landsize dengan Price*** : 0.33\n",
    "- Korelasi ***Distance dengan Price*** : -0.13\n",
    "- Korelasi ***Rooms dengan Price*** : 0.54\n",
    "- ***Kesimpulan***: Dari data diatas diantara ketiga feature tersebut, maka nilai korelasi terkuat ada antara feature ***Rooms*** dengan ***Price*** dengan nilai korelasi ***0.54*** yang berarti semakin banyak jumlah Rooms, maka akan semakin tinggi pula harga Properti tersebut.\n",
    "\n"
   ]
  }
 ],
 "metadata": {
  "kernelspec": {
   "display_name": "Python 3.8.3 64-bit",
   "language": "python",
   "name": "python38364bitc34afbc34a3a479499bebe000e080738"
  },
  "language_info": {
   "codemirror_mode": {
    "name": "ipython",
    "version": 3
   },
   "file_extension": ".py",
   "mimetype": "text/x-python",
   "name": "python",
   "nbconvert_exporter": "python",
   "pygments_lexer": "ipython3",
   "version": "3.8.3"
  },
  "toc": {
   "base_numbering": 1,
   "nav_menu": {},
   "number_sections": false,
   "sideBar": true,
   "skip_h1_title": false,
   "title_cell": "Table of Contents",
   "title_sidebar": "Contents",
   "toc_cell": false,
   "toc_position": {
    "height": "calc(100% - 180px)",
    "left": "10px",
    "top": "150px",
    "width": "307.2px"
   },
   "toc_section_display": true,
   "toc_window_display": true
  }
 },
 "nbformat": 4,
 "nbformat_minor": 4
}
